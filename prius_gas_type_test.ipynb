{
 "cells": [
  {
   "cell_type": "code",
   "execution_count": 2,
   "metadata": {},
   "outputs": [
    {
     "name": "stderr",
     "output_type": "stream",
     "text": [
      "C:\\Users\\Andreas\\Anaconda3\\lib\\site-packages\\statsmodels\\compat\\pandas.py:56: FutureWarning: The pandas.core.datetools module is deprecated and will be removed in a future version. Please use the pandas.tseries module instead.\n",
      "  from pandas.core import datetools\n"
     ]
    }
   ],
   "source": [
    "import statsmodels.api as sm\n",
    "import pandas as pd\n",
    "import numpy as np\n",
    "from patsy import dmatrices"
   ]
  },
  {
   "cell_type": "markdown",
   "metadata": {},
   "source": [
    "At the gas station, i have the habit switch between SP98 and E10. E10 is sold around 10 cents less expensive, however, the car consumes more of it per 100km. \n",
    "\n",
    "My question is: Is this overconsumption eating the better price of the E10 fuel or not? Asked the other way round: Is E10 fuel in the end really less expensive or not?\n",
    "\n",
    "This consumption difference between two fuels is difficult to find because my car uses mor or less gas depending on the weather, the traffic conditions, my personal mood, the speed, and the length of the route. For this first try, i did not connect myself to the CAN bus, so i had no information about the motor temperature and only one measurement per ride. As if it was not difficult enough, the Prius needs only one refill per month, so the season was changing while i did the recording.\n",
    "\n",
    "This is a test for the statsmodels api - sklearn wasn't exactly able to do everyhting with regression that i wanted to do. "
   ]
  },
  {
   "cell_type": "code",
   "execution_count": 3,
   "metadata": {},
   "outputs": [
    {
     "data": {
      "text/html": [
       "<div>\n",
       "<style>\n",
       "    .dataframe thead tr:only-child th {\n",
       "        text-align: right;\n",
       "    }\n",
       "\n",
       "    .dataframe thead th {\n",
       "        text-align: left;\n",
       "    }\n",
       "\n",
       "    .dataframe tbody tr th {\n",
       "        vertical-align: top;\n",
       "    }\n",
       "</style>\n",
       "<table border=\"1\" class=\"dataframe\">\n",
       "  <thead>\n",
       "    <tr style=\"text-align: right;\">\n",
       "      <th></th>\n",
       "      <th>distance</th>\n",
       "      <th>consume</th>\n",
       "      <th>speed</th>\n",
       "      <th>temp_inside</th>\n",
       "      <th>temp_outside</th>\n",
       "      <th>specials</th>\n",
       "      <th>gas_type</th>\n",
       "      <th>AC</th>\n",
       "      <th>rain</th>\n",
       "    </tr>\n",
       "  </thead>\n",
       "  <tbody>\n",
       "    <tr>\n",
       "      <th>0</th>\n",
       "      <td>28.0</td>\n",
       "      <td>5.0</td>\n",
       "      <td>26.0</td>\n",
       "      <td>21.5</td>\n",
       "      <td>12</td>\n",
       "      <td>NaN</td>\n",
       "      <td>E10</td>\n",
       "      <td>0</td>\n",
       "      <td>0</td>\n",
       "    </tr>\n",
       "    <tr>\n",
       "      <th>1</th>\n",
       "      <td>12.0</td>\n",
       "      <td>4.2</td>\n",
       "      <td>30.0</td>\n",
       "      <td>21.5</td>\n",
       "      <td>13</td>\n",
       "      <td>NaN</td>\n",
       "      <td>E10</td>\n",
       "      <td>0</td>\n",
       "      <td>0</td>\n",
       "    </tr>\n",
       "    <tr>\n",
       "      <th>2</th>\n",
       "      <td>11.2</td>\n",
       "      <td>5.5</td>\n",
       "      <td>38.0</td>\n",
       "      <td>21.5</td>\n",
       "      <td>15</td>\n",
       "      <td>NaN</td>\n",
       "      <td>E10</td>\n",
       "      <td>0</td>\n",
       "      <td>0</td>\n",
       "    </tr>\n",
       "    <tr>\n",
       "      <th>3</th>\n",
       "      <td>12.9</td>\n",
       "      <td>3.9</td>\n",
       "      <td>36.0</td>\n",
       "      <td>21.5</td>\n",
       "      <td>14</td>\n",
       "      <td>NaN</td>\n",
       "      <td>E10</td>\n",
       "      <td>0</td>\n",
       "      <td>0</td>\n",
       "    </tr>\n",
       "    <tr>\n",
       "      <th>4</th>\n",
       "      <td>18.5</td>\n",
       "      <td>4.5</td>\n",
       "      <td>46.0</td>\n",
       "      <td>21.5</td>\n",
       "      <td>15</td>\n",
       "      <td>NaN</td>\n",
       "      <td>E10</td>\n",
       "      <td>0</td>\n",
       "      <td>0</td>\n",
       "    </tr>\n",
       "  </tbody>\n",
       "</table>\n",
       "</div>"
      ],
      "text/plain": [
       "   distance  consume  speed  temp_inside  temp_outside specials gas_type  AC  \\\n",
       "0      28.0      5.0   26.0         21.5            12      NaN      E10   0   \n",
       "1      12.0      4.2   30.0         21.5            13      NaN      E10   0   \n",
       "2      11.2      5.5   38.0         21.5            15      NaN      E10   0   \n",
       "3      12.9      3.9   36.0         21.5            14      NaN      E10   0   \n",
       "4      18.5      4.5   46.0         21.5            15      NaN      E10   0   \n",
       "\n",
       "   rain  \n",
       "0     0  \n",
       "1     0  \n",
       "2     0  \n",
       "3     0  \n",
       "4     0  "
      ]
     },
     "execution_count": 3,
     "metadata": {},
     "output_type": "execute_result"
    }
   ],
   "source": [
    "df = pd.read_excel('measurements.xlsx')\n",
    "df.head(5)"
   ]
  },
  {
   "cell_type": "markdown",
   "metadata": {},
   "source": [
    "* distance is the distance in kilometers i was driving\n",
    "* consume is the consumption in liters per 100 kilometers as seen in the display\n",
    "* speed is the average speed. \n",
    "* temp_inside is the setting of the heating or \"NaN\" if it was turned off\n",
    "* temp_outside is the temperature outside, taken at the end of the ride.\n",
    "* specials is a remark if it was raining, snowing or if the climatization was on (\"AC\")\n",
    "* gas type is the gas type used during the last refill\n",
    "* AC is one hot encoded, the special \"AC\". 1 for on, 0 for off.\n",
    "* rain is one-hot-encoded, the special \"rain\" and \"snow\". 1 for it was raining/snowing, 0 for it was good weather."
   ]
  },
  {
   "cell_type": "code",
   "execution_count": 4,
   "metadata": {},
   "outputs": [
    {
     "data": {
      "text/plain": [
       "gas_type\n",
       "E10     5.193750\n",
       "SP98    5.277174\n",
       "Name: consume, dtype: float64"
      ]
     },
     "execution_count": 4,
     "metadata": {},
     "output_type": "execute_result"
    }
   ],
   "source": [
    "# if the heating was turned completely off, replace the inside temperature by the outside temperature\n",
    "df['temp_inside'].fillna(df['temp_outside'], inplace=True)\n",
    "# get the temperature difference\n",
    "df['temp_diff'] = df['temp_inside'] - df['temp_outside']\n",
    "# add the square of the speed to the frame\n",
    "df['speedsquare'] = df['speed']**2\n",
    "\n",
    "# translate the gas type to something machine readable\n",
    "def gastype(in_string):\n",
    "    '''gas type in, integer out'''\n",
    "    if in_string == \"E10\":\n",
    "        return 0\n",
    "    else:\n",
    "        return 1\n",
    "df['gas_type_num']= df['gas_type'].apply(gastype)\n",
    "df.groupby(by='gas_type')['consume'].mean()"
   ]
  },
  {
   "cell_type": "markdown",
   "metadata": {},
   "source": [
    "So yes there is indeed an impact of the gas type. Contrary to my real life experience it looks as if SP98 makes my car consume more! This is because i used SP98 throughout the winter while E10 was used before and after, unintentionally.\n",
    "\n",
    "As i am fairly confident with sklearn by now, first i tried to do the inference with sklearn regression analyses.\n",
    "\n",
    "Basically, if you want to extract the influence of one feature, you remove it from the feature space together with the target variable. \n",
    "Then you fit the regression on the target variable, `consume` in my case, and a second regression on the feature to be extracted: `gas_type` in my case.\n",
    "\n",
    "Then comes a step that i don't fully understand: You fit the coefficients of the two regressions on each other, and the outcome shall be a number in the unit of the target variable, depicting the result.\n",
    "Could you check the marked part below? I don't trust myself here!"
   ]
  },
  {
   "cell_type": "code",
   "execution_count": 5,
   "metadata": {},
   "outputs": [
    {
     "name": "stdout",
     "output_type": "stream",
     "text": [
      "\n",
      "The result after crossfitting two regressions to get the effect of gas sorts:\n",
      "The difference in consumption between E10 and SP98 is 0.84 liter.\n",
      "Assuming a price difference of 10 Cents, E10 = 1,40€ and SP98 = 1,50€\n",
      "it means that 100km cost 0.65 cents more with the supposedly cheaper E10.\n",
      "\n",
      "\n",
      "The importance of the other factors (F-Values)\n",
      "            distance  speed  speedsquare  temp_diff    AC  rain\n",
      "predictors      0.68   5.32         2.34       4.95  2.01  2.71\n"
     ]
    }
   ],
   "source": [
    "# make numpy vectors for prediction\n",
    "prediction_values = ['distance', 'speed', 'speedsquare', 'temp_diff', 'AC', 'rain']\n",
    "all_values = ['gas_type_num','consume','distance', 'speed', 'speedsquare', 'temp_diff', 'AC', 'rain']\n",
    "\n",
    "X = df[prediction_values].values\n",
    "Y = df['consume'].values\n",
    "Y_gas = df['gas_type_num'].values\n",
    "\n",
    "# apply regression\n",
    "from sklearn.linear_model import LinearRegression\n",
    "rgr = LinearRegression()\n",
    "rgr.fit(X, Y)\n",
    "\n",
    "# apply again, this time trained on gas type\n",
    "rgr_gas = LinearRegression()\n",
    "rgr_gas.fit(X, Y_gas)\n",
    "\n",
    "#####################################################################################\n",
    "# do inference: This is the part that i don't understand! Could you please help here?\n",
    "rgr_inference = LinearRegression()\n",
    "rgr_inference.fit(rgr.coef_.reshape(-1,1), rgr_gas.coef_)\n",
    "difference = rgr_inference.coef_[0]\n",
    "\n",
    "\n",
    "\n",
    "print('\\nThe result after crossfitting two regressions to get the effect of gas sorts:')\n",
    "print('The difference in consumption between E10 and SP98 is {:.2f} liter.'.format(difference))\n",
    "print('Assuming a price difference of 10 Cents, E10 = 1,40€ and SP98 = 1,50€')\n",
    "low_consume = df['consume'].mean() *1.5\n",
    "high_consume = (difference + df['consume'].mean()) * 1.4\n",
    "price_difference = high_consume - low_consume\n",
    "print('it means that 100km cost {:.2f} cents more with the supposedly cheaper E10.'.format(price_difference))\n",
    "\n",
    "print('\\n\\nThe importance of the other factors (F-Values)')\n",
    "from sklearn.feature_selection import f_regression\n",
    "F, pval = f_regression(X, Y)\n",
    "predictors_df = pd.DataFrame(columns=prediction_values)\n",
    "predictors_df.loc['predictors'] = F\n",
    "print(predictors_df.round(2))"
   ]
  },
  {
   "cell_type": "markdown",
   "metadata": {},
   "source": [
    "So far how it *should* work. Sadly, i am absolutely not sure about the second step, where the two coefficient vectors were fitted to each other. Also, sklearn does not offer confidence intervals - so i don't know how reliable this result really is - or if it is a result at all.\n",
    "\n",
    "I have, however, an example from the MIT by [Victor Chernozhukov](http://www.mit.edu/~vchern/). It is written in R. I will now try to use step by step with the help of statsmodels and see what comes out."
   ]
  },
  {
   "cell_type": "code",
   "execution_count": 10,
   "metadata": {},
   "outputs": [
    {
     "data": {
      "text/html": [
       "<div>\n",
       "<style>\n",
       "    .dataframe thead tr:only-child th {\n",
       "        text-align: right;\n",
       "    }\n",
       "\n",
       "    .dataframe thead th {\n",
       "        text-align: left;\n",
       "    }\n",
       "\n",
       "    .dataframe tbody tr th {\n",
       "        vertical-align: top;\n",
       "    }\n",
       "</style>\n",
       "<table border=\"1\" class=\"dataframe\">\n",
       "  <thead>\n",
       "    <tr style=\"text-align: right;\">\n",
       "      <th></th>\n",
       "      <th>Intercept</th>\n",
       "      <th>gas_type[T.SP98]</th>\n",
       "      <th>distance</th>\n",
       "      <th>speed</th>\n",
       "      <th>speedsquare</th>\n",
       "      <th>temp_diff</th>\n",
       "      <th>AC</th>\n",
       "      <th>rain</th>\n",
       "    </tr>\n",
       "  </thead>\n",
       "  <tbody>\n",
       "    <tr>\n",
       "      <th>0</th>\n",
       "      <td>1.0</td>\n",
       "      <td>0.0</td>\n",
       "      <td>28.0</td>\n",
       "      <td>26.0</td>\n",
       "      <td>676.0</td>\n",
       "      <td>9.5</td>\n",
       "      <td>0.0</td>\n",
       "      <td>0.0</td>\n",
       "    </tr>\n",
       "    <tr>\n",
       "      <th>1</th>\n",
       "      <td>1.0</td>\n",
       "      <td>0.0</td>\n",
       "      <td>12.0</td>\n",
       "      <td>30.0</td>\n",
       "      <td>900.0</td>\n",
       "      <td>8.5</td>\n",
       "      <td>0.0</td>\n",
       "      <td>0.0</td>\n",
       "    </tr>\n",
       "    <tr>\n",
       "      <th>2</th>\n",
       "      <td>1.0</td>\n",
       "      <td>0.0</td>\n",
       "      <td>11.2</td>\n",
       "      <td>38.0</td>\n",
       "      <td>1444.0</td>\n",
       "      <td>6.5</td>\n",
       "      <td>0.0</td>\n",
       "      <td>0.0</td>\n",
       "    </tr>\n",
       "  </tbody>\n",
       "</table>\n",
       "</div>"
      ],
      "text/plain": [
       "   Intercept  gas_type[T.SP98]  distance  speed  speedsquare  temp_diff   AC  \\\n",
       "0        1.0               0.0      28.0   26.0        676.0        9.5  0.0   \n",
       "1        1.0               0.0      12.0   30.0        900.0        8.5  0.0   \n",
       "2        1.0               0.0      11.2   38.0       1444.0        6.5  0.0   \n",
       "\n",
       "   rain  \n",
       "0   0.0  \n",
       "1   0.0  \n",
       "2   0.0  "
      ]
     },
     "execution_count": 10,
     "metadata": {},
     "output_type": "execute_result"
    }
   ],
   "source": [
    "y, X = dmatrices('consume ~ gas_type + distance + speed + speedsquare + temp_diff + AC + rain', \n",
    "                 data=df, return_type='dataframe')\n",
    "X.head(3)"
   ]
  },
  {
   "cell_type": "markdown",
   "metadata": {},
   "source": [
    "What i like here: Automatically a constant is attached (Intercept). It also automatically one-hot-encoded the gas_type column. It means it would also split AC and rain a work that i did before entering into Python."
   ]
  },
  {
   "cell_type": "code",
   "execution_count": 76,
   "metadata": {
    "collapsed": true
   },
   "outputs": [],
   "source": [
    "# prepare a model without gas type and fit it on consume\n",
    "y_o, X_outcome = dmatrices('consume ~ distance + speed + speedsquare + temp_diff + AC + rain', \n",
    "                 data=df, return_type='dataframe')\n",
    "rgr_y = sm.OLS(y, X_outcome)\n",
    "res_y = rgr_y.fit()\n",
    "\n",
    "# prepare a model that is fit on the gas type\n",
    "y_t, X_treatment = dmatrices('gas_type_num ~ distance + speed + speedsquare + temp_diff + AC + rain', \n",
    "                 data=df, return_type='dataframe')\n",
    "rgr_d = sm.OLS(y, X_treatment)\n",
    "res_d = rgr_y.fit()\n",
    "\n",
    "# get the residuals of both models\n",
    "t_Y = res_y.params\n",
    "t_D = res_d.params\n",
    "\n",
    "# fit the residuals of one model to the other, as a result\n",
    "# removing all but one factor\n",
    "y_out, X_output = dmatrices('t_Y ~ t_D')\n",
    "rgr_out = sm.OLS(y, X_output)\n",
    "res_out = rgr_out.fit()\n",
    "\n",
    "#partials = sm.OLS('t_Y ~ t_D')\n"
   ]
  },
  {
   "cell_type": "code",
   "execution_count": 90,
   "metadata": {},
   "outputs": [
    {
     "ename": "ValueError",
     "evalue": "f(a) and f(b) must have different signs",
     "output_type": "error",
     "traceback": [
      "\u001b[1;31m---------------------------------------------------------------------------\u001b[0m",
      "\u001b[1;31mValueError\u001b[0m                                Traceback (most recent call last)",
      "\u001b[1;32m<ipython-input-90-329420533bbc>\u001b[0m in \u001b[0;36m<module>\u001b[1;34m()\u001b[0m\n\u001b[1;32m----> 1\u001b[1;33m \u001b[0mres_out\u001b[0m\u001b[1;33m.\u001b[0m\u001b[0mconf_int_el\u001b[0m\u001b[1;33m(\u001b[0m\u001b[0mparam_num\u001b[0m\u001b[1;33m=\u001b[0m\u001b[1;36m1\u001b[0m\u001b[1;33m)\u001b[0m\u001b[1;33m\u001b[0m\u001b[0m\n\u001b[0m",
      "\u001b[1;32mC:\\Users\\Andreas\\Anaconda3\\lib\\site-packages\\statsmodels\\regression\\linear_model.py\u001b[0m in \u001b[0;36mconf_int_el\u001b[1;34m(self, param_num, sig, upper_bound, lower_bound, method, stochastic_exog)\u001b[0m\n\u001b[0;32m   2599\u001b[0m                                       stochastic_exog=stochastic_exog)[0]-r0\n\u001b[0;32m   2600\u001b[0m         lowerl = optimize.brenth(f, lower_bound,\n\u001b[1;32m-> 2601\u001b[1;33m                              self.params[param_num])\n\u001b[0m\u001b[0;32m   2602\u001b[0m         upperl = optimize.brenth(f, self.params[param_num],\n\u001b[0;32m   2603\u001b[0m                              upper_bound)\n",
      "\u001b[1;32mC:\\Users\\Andreas\\Anaconda3\\lib\\site-packages\\scipy\\optimize\\zeros.py\u001b[0m in \u001b[0;36mbrenth\u001b[1;34m(f, a, b, args, xtol, rtol, maxiter, full_output, disp)\u001b[0m\n\u001b[0;32m    526\u001b[0m     \u001b[1;32mif\u001b[0m \u001b[0mrtol\u001b[0m \u001b[1;33m<\u001b[0m \u001b[0m_rtol\u001b[0m\u001b[1;33m:\u001b[0m\u001b[1;33m\u001b[0m\u001b[0m\n\u001b[0;32m    527\u001b[0m         \u001b[1;32mraise\u001b[0m \u001b[0mValueError\u001b[0m\u001b[1;33m(\u001b[0m\u001b[1;34m\"rtol too small (%g < %g)\"\u001b[0m \u001b[1;33m%\u001b[0m \u001b[1;33m(\u001b[0m\u001b[0mrtol\u001b[0m\u001b[1;33m,\u001b[0m \u001b[0m_rtol\u001b[0m\u001b[1;33m)\u001b[0m\u001b[1;33m)\u001b[0m\u001b[1;33m\u001b[0m\u001b[0m\n\u001b[1;32m--> 528\u001b[1;33m     \u001b[0mr\u001b[0m \u001b[1;33m=\u001b[0m \u001b[0m_zeros\u001b[0m\u001b[1;33m.\u001b[0m\u001b[0m_brenth\u001b[0m\u001b[1;33m(\u001b[0m\u001b[0mf\u001b[0m\u001b[1;33m,\u001b[0m\u001b[0ma\u001b[0m\u001b[1;33m,\u001b[0m \u001b[0mb\u001b[0m\u001b[1;33m,\u001b[0m \u001b[0mxtol\u001b[0m\u001b[1;33m,\u001b[0m \u001b[0mrtol\u001b[0m\u001b[1;33m,\u001b[0m \u001b[0mmaxiter\u001b[0m\u001b[1;33m,\u001b[0m \u001b[0margs\u001b[0m\u001b[1;33m,\u001b[0m \u001b[0mfull_output\u001b[0m\u001b[1;33m,\u001b[0m \u001b[0mdisp\u001b[0m\u001b[1;33m)\u001b[0m\u001b[1;33m\u001b[0m\u001b[0m\n\u001b[0m\u001b[0;32m    529\u001b[0m     \u001b[1;32mreturn\u001b[0m \u001b[0mresults_c\u001b[0m\u001b[1;33m(\u001b[0m\u001b[0mfull_output\u001b[0m\u001b[1;33m,\u001b[0m \u001b[0mr\u001b[0m\u001b[1;33m)\u001b[0m\u001b[1;33m\u001b[0m\u001b[0m\n",
      "\u001b[1;31mValueError\u001b[0m: f(a) and f(b) must have different signs"
     ]
    }
   ],
   "source": [
    "res_out"
   ]
  },
  {
   "cell_type": "code",
   "execution_count": null,
   "metadata": {
    "collapsed": true
   },
   "outputs": [],
   "source": []
  }
 ],
 "metadata": {
  "kernelspec": {
   "display_name": "Python 3",
   "language": "python",
   "name": "python3"
  },
  "language_info": {
   "codemirror_mode": {
    "name": "ipython",
    "version": 3
   },
   "file_extension": ".py",
   "mimetype": "text/x-python",
   "name": "python",
   "nbconvert_exporter": "python",
   "pygments_lexer": "ipython3",
   "version": "3.6.1"
  }
 },
 "nbformat": 4,
 "nbformat_minor": 2
}
