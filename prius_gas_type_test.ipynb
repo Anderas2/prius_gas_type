{
 "cells": [
  {
   "cell_type": "markdown",
   "metadata": {},
   "source": [
    "<img src=\"gas_station_orig.jpg\">\n",
    "\n",
    "\n",
    "At the gas station, i have the habit switch between SP98 and E10. E10 is sold less expensive, however, the car consumes more of it per 100km. By feeling i would say it is between 0.5 and 1 liter more per 100km - which is, taken by logic, ridiculous lots, so i didn't believe my feeling.\n",
    "\n",
    "I want to try and find the real impact on the consumption today. My question is: Is this higher consumption of E10 eating the better price or not? Asked the other way round: Is E10 fuel in the end really less expensive or not?"
   ]
  },
  {
   "cell_type": "code",
   "execution_count": 88,
   "metadata": {
    "collapsed": true
   },
   "outputs": [],
   "source": [
    "E10_price = 1.379\n",
    "SP98_price = 1.459"
   ]
  },
  {
   "cell_type": "markdown",
   "metadata": {},
   "source": [
    "E10 contains 10% alcohol and is otherwise \"super\" fuel, sold as \"95\" in some countries. SP98 is the fuel sold as \"super plus\" or \"super 98\".\n",
    "\n",
    "This consumption difference between two fuels is difficult to find because my car uses more or less gas depending on the weather, the traffic conditions, my personal mood, the speed, and the length of the route. For this first try, i did not connect to the CAN bus, so i had no information about the motor temperature and only one measurement per ride, taken by hand. As if it was not difficult enough, the Prius needs only one refill per month, so the season was changing while i did the recording.\n",
    "\n",
    "I orient myself on an R script of [Victor Chernozhukov](http://www.mit.edu/~vchern/); who was beautifully extracting the influence on being female on the salary. However, he used R which i don't know, so i try to repeat this in python. "
   ]
  },
  {
   "cell_type": "code",
   "execution_count": 89,
   "metadata": {},
   "outputs": [],
   "source": [
    "import statsmodels.api as sm\n",
    "import statsmodels.formula.api as smf\n",
    "from sklearn.linear_model import LinearRegression\n",
    "import pandas as pd\n",
    "import numpy as np\n",
    "from patsy import dmatrices"
   ]
  },
  {
   "cell_type": "code",
   "execution_count": 90,
   "metadata": {},
   "outputs": [
    {
     "data": {
      "text/html": [
       "<div>\n",
       "<style>\n",
       "    .dataframe thead tr:only-child th {\n",
       "        text-align: right;\n",
       "    }\n",
       "\n",
       "    .dataframe thead th {\n",
       "        text-align: left;\n",
       "    }\n",
       "\n",
       "    .dataframe tbody tr th {\n",
       "        vertical-align: top;\n",
       "    }\n",
       "</style>\n",
       "<table border=\"1\" class=\"dataframe\">\n",
       "  <thead>\n",
       "    <tr style=\"text-align: right;\">\n",
       "      <th></th>\n",
       "      <th>distance</th>\n",
       "      <th>consume</th>\n",
       "      <th>speed</th>\n",
       "      <th>temp_inside</th>\n",
       "      <th>temp_outside</th>\n",
       "      <th>specials</th>\n",
       "      <th>gas_type</th>\n",
       "      <th>AC</th>\n",
       "      <th>rain</th>\n",
       "    </tr>\n",
       "  </thead>\n",
       "  <tbody>\n",
       "    <tr>\n",
       "      <th>0</th>\n",
       "      <td>28.0</td>\n",
       "      <td>5.0</td>\n",
       "      <td>26.0</td>\n",
       "      <td>21.5</td>\n",
       "      <td>12</td>\n",
       "      <td>NaN</td>\n",
       "      <td>E10</td>\n",
       "      <td>0</td>\n",
       "      <td>0</td>\n",
       "    </tr>\n",
       "    <tr>\n",
       "      <th>1</th>\n",
       "      <td>12.0</td>\n",
       "      <td>4.2</td>\n",
       "      <td>30.0</td>\n",
       "      <td>21.5</td>\n",
       "      <td>13</td>\n",
       "      <td>NaN</td>\n",
       "      <td>E10</td>\n",
       "      <td>0</td>\n",
       "      <td>0</td>\n",
       "    </tr>\n",
       "    <tr>\n",
       "      <th>2</th>\n",
       "      <td>11.2</td>\n",
       "      <td>5.5</td>\n",
       "      <td>38.0</td>\n",
       "      <td>21.5</td>\n",
       "      <td>15</td>\n",
       "      <td>NaN</td>\n",
       "      <td>E10</td>\n",
       "      <td>0</td>\n",
       "      <td>0</td>\n",
       "    </tr>\n",
       "    <tr>\n",
       "      <th>3</th>\n",
       "      <td>12.9</td>\n",
       "      <td>3.9</td>\n",
       "      <td>36.0</td>\n",
       "      <td>21.5</td>\n",
       "      <td>14</td>\n",
       "      <td>NaN</td>\n",
       "      <td>E10</td>\n",
       "      <td>0</td>\n",
       "      <td>0</td>\n",
       "    </tr>\n",
       "    <tr>\n",
       "      <th>4</th>\n",
       "      <td>18.5</td>\n",
       "      <td>4.5</td>\n",
       "      <td>46.0</td>\n",
       "      <td>21.5</td>\n",
       "      <td>15</td>\n",
       "      <td>NaN</td>\n",
       "      <td>E10</td>\n",
       "      <td>0</td>\n",
       "      <td>0</td>\n",
       "    </tr>\n",
       "  </tbody>\n",
       "</table>\n",
       "</div>"
      ],
      "text/plain": [
       "   distance  consume  speed  temp_inside  temp_outside specials gas_type  AC  \\\n",
       "0      28.0      5.0   26.0         21.5            12      NaN      E10   0   \n",
       "1      12.0      4.2   30.0         21.5            13      NaN      E10   0   \n",
       "2      11.2      5.5   38.0         21.5            15      NaN      E10   0   \n",
       "3      12.9      3.9   36.0         21.5            14      NaN      E10   0   \n",
       "4      18.5      4.5   46.0         21.5            15      NaN      E10   0   \n",
       "\n",
       "   rain  \n",
       "0     0  \n",
       "1     0  \n",
       "2     0  \n",
       "3     0  \n",
       "4     0  "
      ]
     },
     "execution_count": 90,
     "metadata": {},
     "output_type": "execute_result"
    }
   ],
   "source": [
    "df = pd.read_excel('measurements.xlsx')\n",
    "df.head(5)"
   ]
  },
  {
   "cell_type": "markdown",
   "metadata": {},
   "source": [
    "* distance is the distance in kilometers i was driving\n",
    "* consume is the consumption in liters per 100 kilometers as seen in the display\n",
    "* speed is the average speed. \n",
    "* temp_inside is the setting of the heating or \"NaN\" if it was turned off\n",
    "* temp_outside is the temperature outside, taken at the end of the ride.\n",
    "* specials is a remark if it was raining, snowing or if the climatization was on (\"AC\")\n",
    "* gas type is the gas type used during the last refill\n",
    "* AC is one hot encoded, the special \"AC\". 1 for on, 0 for off.\n",
    "* rain is one-hot-encoded, the special \"rain\" and \"snow\". 1 for it was raining/snowing, 0 for it was good weather."
   ]
  },
  {
   "cell_type": "code",
   "execution_count": 91,
   "metadata": {},
   "outputs": [
    {
     "name": "stdout",
     "output_type": "stream",
     "text": [
      "gas_type\n",
      "E10     5.18\n",
      "SP98    5.28\n",
      "Name: consume, dtype: float64\n"
     ]
    }
   ],
   "source": [
    "# indicator if the heating was not used at all\n",
    "df['heating_off']=df['temp_inside'].isnull()\n",
    "# if the heating was turned completely off, replace the inside temperature by the outside temperature\n",
    "df['temp_inside'].fillna(df['temp_outside'], inplace=True)\n",
    "# get the temperature difference\n",
    "df['temp_diff'] = df['temp_inside'] - df['temp_outside']\n",
    "df['temp_diff_square'] = df['temp_diff']**2\n",
    "# add the square and cube of the speed to the frame\n",
    "df['speedsquare'] = df['speed']**2  # 5% better accuracy\n",
    "df['speedcube'] =  df['speed']**3  # 1% better accuracy\n",
    "\n",
    "# add an indicator for the heat up phase to the frame\n",
    "# it is a timer that measures roughly 15 minutes from start indirectly via distance and speed,\n",
    "# and then uses a sigmoid function to cut off. 5% better accuracy\n",
    "df['startphase'] = 1 / (1 + np.exp( ((df['distance']/(df['speed']/12)) -3.3)/0.4 ))\n",
    "\n",
    "# heating costs extra in the startphase, later not so much\n",
    "df['start_heating'] = df['startphase'] * df['temp_diff'] #0.3% better accuracy\n",
    "\n",
    "# translate the gas type to something machine readable\n",
    "def gastype(in_string):\n",
    "    '''gas type in, integer out'''\n",
    "    if in_string == \"E10\":\n",
    "        return 0\n",
    "    else:\n",
    "        return 1\n",
    "df['gas_type_num']= df['gas_type'].apply(gastype)\n",
    "print(df.groupby(by='gas_type')['consume'].mean().round(2))"
   ]
  },
  {
   "cell_type": "markdown",
   "metadata": {},
   "source": [
    "So yes there is indeed an impact of the gas type. Contrary to my real life experience it looks as if SP98 makes my car consume more, and that the difference is very small! This is because i used SP98 throughout the winter, while E10 was used before and after. I need to refill only once per month so it is difficult to have both gas types in the same season.\n",
    "\n",
    "As i am fairly confident with sklearn by now, first i tried to do the inference with sklearn regression analyses.\n",
    "\n",
    "Basically, if you want to extract the influence of one feature, you remove it from the feature space together with the target variable. \n",
    "Then you fit the regression on the target variable, `consume` in my case, and a second regression on the feature to be extracted: `gas_type` in my case.\n",
    "\n",
    "Then comes a step that i don't fully understand: You fit the coefficients of the two regressions on each other, and the outcome shall be a number in the unit of the target variable, depicting the result.\n",
    "Could you check the marked part below? I don't trust myself here!"
   ]
  },
  {
   "cell_type": "code",
   "execution_count": 92,
   "metadata": {},
   "outputs": [
    {
     "name": "stdout",
     "output_type": "stream",
     "text": [
      "\n",
      "The result after crossfitting two regressions to get the effect of gas sorts:\n",
      "The difference in consumption between E10 and SP98 is 0.70 liter.\n",
      "\n",
      "\n",
      "The importance of the other factors (F-Values)\n",
      "                  F-value of predictor\n",
      "distance                          1.61\n",
      "start_heating                    17.06\n",
      "startphase                       11.01\n",
      "speed                             9.39\n",
      "speedsquare                       4.16\n",
      "speedcube                         1.64\n",
      "temp_diff                         3.49\n",
      "temp_diff_square                  2.70\n",
      "temp_outside                      2.78\n",
      "heating_off                       0.73\n",
      "AC                                1.27\n",
      "rain                              4.82\n",
      "\n",
      "And R² of the model:0.368\n"
     ]
    }
   ],
   "source": [
    "# make numpy vectors for prediction\n",
    "prediction_values = ['distance','start_heating', 'startphase', \n",
    "                     'speed', 'speedsquare', 'speedcube', \n",
    "                     'temp_diff', 'temp_diff_square', 'temp_outside', \n",
    "                     'heating_off', 'AC', 'rain']\n",
    "\n",
    "X = df[prediction_values].values\n",
    "Y = df['consume'].values\n",
    "Y_gas = df['gas_type_num'].values\n",
    "\n",
    "# apply regression\n",
    "rgr = LinearRegression()\n",
    "rgr.fit(X, Y)\n",
    "\n",
    "# apply again, this time trained on gas type\n",
    "rgr_gas = LinearRegression()\n",
    "rgr_gas.fit(X, Y_gas)\n",
    "\n",
    "# get the residuals (the not-yet-explained variance left in the data)\n",
    "Y_residuals = Y - rgr.predict(X)\n",
    "X_gas_residuals = Y - rgr_gas.predict(X)\n",
    "\n",
    "# fit the residuals to get the influence of the gas type\n",
    "# reshape(-1,1) is necessary since scikit 19 if you have a single feature\n",
    "rgr_inference = LinearRegression()\n",
    "rgr_inference.fit(X_gas_residuals.reshape(-1,1), Y_residuals)\n",
    "difference = rgr_inference.coef_[0] # there is only one coef, but given as list of one. :-)\n",
    "\n",
    "print('\\nThe result after crossfitting two regressions to get the effect of gas sorts:')\n",
    "print('The difference in consumption between E10 and SP98 is {:.2f} liter.'.format(difference))\n",
    "\n",
    "\n",
    "# out of interest - what was the influence of the other factors?\n",
    "print('\\n\\nThe importance of the other factors (F-Values)')\n",
    "from sklearn.feature_selection import f_regression\n",
    "F, pval = f_regression(X, Y)\n",
    "predictors_df = pd.DataFrame(columns=prediction_values)\n",
    "predictors_df.loc['F-value of predictor'] = F\n",
    "print(predictors_df.round(2).transpose())\n",
    "print('\\nAnd R² of the model:{:.3f}'.format(rgr.score(X, Y)))"
   ]
  },
  {
   "cell_type": "markdown",
   "metadata": {},
   "source": [
    "So far how it *should* work. \n",
    "\n",
    "One problem remains: `sklearn` is tuned to predictions and does not offer confidence intervals - so i don't know how reliable this result really is - or if it is a result at all. So i head over to `statsmodels` now."
   ]
  },
  {
   "cell_type": "code",
   "execution_count": 93,
   "metadata": {},
   "outputs": [
    {
     "name": "stdout",
     "output_type": "stream",
     "text": [
      "The car uses between 0.62 and 0.77 L/100km more gas with E10, with 95% confidence\n",
      "\n",
      "The mid point is 0.70L/100km\n",
      "Here, E10 costs 1.38€ and SP98 costs 1.46€.\n",
      "\n",
      "So, for 100 km:\n",
      "E10  consume: 5.58L and cost 5.717€\n",
      "SP98 consume: 4.89L and cost 4.727€\n"
     ]
    }
   ],
   "source": [
    "# prepare dataframe for statsmodels\n",
    "residuals = pd.DataFrame(Y_residuals, columns=['consume'])\n",
    "residuals['E10']=X_gas_residuals\n",
    "\n",
    "# fit regression in statsmodels format.\n",
    "# it's like sklearn rgr.fit(E10, consume)\n",
    "results = smf.ols('consume ~ E10', data=residuals).fit()\n",
    "\n",
    "# get the result out of the vast array of available values\n",
    "consume = results.conf_int().loc['E10']\n",
    "\n",
    "print(\"The car uses between {:.2f} and {:.2f} L/100km more gas with E10, with 95% confidence\".format(\n",
    "            consume[0], consume[1]))\n",
    "\n",
    "# assuming the difference is the beta of E10: attention, this\n",
    "# is true only if the factor E10 is completely independent\n",
    "difference = results.params[1]\n",
    "\n",
    "#output results\n",
    "print(\"\\nThe mid point is {:.2f}L/100km\".format(difference))\n",
    "print('Here, E10 costs {:1.2f}€ and SP98 costs {:1.2f}€.\\n\\nSo, for 100 km:'.format(E10_price, SP98_price))\n",
    "print('E10  consume: {:.2f}L and cost {:.3f}€'.format(df['consume'].mean() + (difference/2), \n",
    "                                                   df['consume'].mean() + (difference/2) * E10_price))\n",
    "print('SP98 consume: {:.2f}L and cost {:.3f}€'.format(df['consume'].mean() - (difference/2), \n",
    "                                                   df['consume'].mean() - (difference/2) * SP98_price))"
   ]
  },
  {
   "cell_type": "markdown",
   "metadata": {},
   "source": [
    "That's a pretty clear result. \n",
    "\n",
    "Influence factor partialling out is a really cool feature of linear regression! :-)\n",
    "\n",
    "I hope you had some fun reading this notebook - \n",
    "\n",
    "I will continue now and see how E80 gas behaves in my car. The measurement will again take some months, so don't wait in front of your screen for it. :-)"
   ]
  },
  {
   "cell_type": "markdown",
   "metadata": {},
   "source": [
    "<img src=\"gas_station_correct.jpg\">"
   ]
  },
  {
   "cell_type": "code",
   "execution_count": null,
   "metadata": {
    "collapsed": true
   },
   "outputs": [],
   "source": []
  }
 ],
 "metadata": {
  "kernelspec": {
   "display_name": "Python 3",
   "language": "python",
   "name": "python3"
  },
  "language_info": {
   "codemirror_mode": {
    "name": "ipython",
    "version": 3
   },
   "file_extension": ".py",
   "mimetype": "text/x-python",
   "name": "python",
   "nbconvert_exporter": "python",
   "pygments_lexer": "ipython3",
   "version": "3.6.1"
  }
 },
 "nbformat": 4,
 "nbformat_minor": 2
}
