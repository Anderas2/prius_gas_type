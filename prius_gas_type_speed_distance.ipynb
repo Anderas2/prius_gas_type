{
 "cells": [
  {
   "cell_type": "markdown",
   "metadata": {
    "slideshow": {
     "slide_type": "slide"
    }
   },
   "source": [
    "<img src=\"gas_station_orig.jpg\">\n",
    "\n",
    "### The Gas\n",
    "At the gas station, i have the habit switch between SP98 and E10. E10 is sold less expensive, however, the car consumes more of it per 100km. By feeling i would say it is between 0.5 and 1 liter more per 100km - which is, taken by logic, ridiculous lots, so i didn't believe my feeling.\n",
    "\n",
    "I want to try and find the real impact on the consumption today. \n",
    "\n",
    "### My question is: \n",
    "Is this higher consumption of E10 eating the better price or not? Asked the other way round: Is E10 fuel in the end really less expensive or not?"
   ]
  },
  {
   "cell_type": "code",
   "execution_count": 3,
   "metadata": {
    "collapsed": true,
    "slideshow": {
     "slide_type": "slide"
    }
   },
   "outputs": [],
   "source": [
    "E10_price = 1.379\n",
    "SP98_price = 1.459"
   ]
  },
  {
   "cell_type": "markdown",
   "metadata": {
    "slideshow": {
     "slide_type": "slide"
    }
   },
   "source": [
    "E10 contains 10% alcohol and is otherwise \"super\" fuel, sold as \"95\" in some countries. SP98 is the fuel sold as \"super plus\" or \"super 98\".\n",
    "\n",
    "This consumption difference between two fuels is difficult to find because my car uses more or less gas depending on the weather, the traffic conditions, my personal mood, the speed, and the length of the route. For this first try, i did not connect to the CAN bus, so i had no information about the motor temperature and only one measurement per ride, taken by hand. As if it was not difficult enough, the Prius needs only one refill per month, so the season was changing while i did the recording.\n",
    "\n",
    "I orient myself on an R script of [Victor Chernozhukov](http://www.mit.edu/~vchern/); who was beautifully extracting the influence on being female on the salary. However, he used R which i don't know, so i try to repeat this in python. "
   ]
  },
  {
   "cell_type": "code",
   "execution_count": 4,
   "metadata": {
    "slideshow": {
     "slide_type": "slide"
    }
   },
   "outputs": [
    {
     "name": "stderr",
     "output_type": "stream",
     "text": [
      "C:\\Users\\Andreas\\Anaconda3\\lib\\site-packages\\statsmodels\\compat\\pandas.py:56: FutureWarning: The pandas.core.datetools module is deprecated and will be removed in a future version. Please use the pandas.tseries module instead.\n",
      "  from pandas.core import datetools\n"
     ]
    }
   ],
   "source": [
    "import statsmodels.api as sm\n",
    "import statsmodels.formula.api as smf\n",
    "from sklearn.linear_model import LinearRegression\n",
    "from sklearn.preprocessing import StandardScaler\n",
    "import pandas as pd\n",
    "# from pandas.plotting import parallel_coordinates\n",
    "import numpy as np\n",
    "from IPython.display import display #, HTML\n",
    "# from patsy import dmatrices\n",
    "import matplotlib.pyplot as plt\n",
    "import seaborn as sns\n",
    "from matplotlib import gridspec\n",
    "from matplotlib.colors import LinearSegmentedColormap\n",
    "sns.set(rc={'axes.facecolor':'white', 'figure.facecolor':'white'})\n",
    "\n",
    "%matplotlib inline"
   ]
  },
  {
   "cell_type": "code",
   "execution_count": 5,
   "metadata": {
    "slideshow": {
     "slide_type": "slide"
    }
   },
   "outputs": [
    {
     "data": {
      "text/html": [
       "<div>\n",
       "<style scoped>\n",
       "    .dataframe tbody tr th:only-of-type {\n",
       "        vertical-align: middle;\n",
       "    }\n",
       "\n",
       "    .dataframe tbody tr th {\n",
       "        vertical-align: top;\n",
       "    }\n",
       "\n",
       "    .dataframe thead th {\n",
       "        text-align: right;\n",
       "    }\n",
       "</style>\n",
       "<table border=\"1\" class=\"dataframe\">\n",
       "  <thead>\n",
       "    <tr style=\"text-align: right;\">\n",
       "      <th></th>\n",
       "      <th>distance</th>\n",
       "      <th>consume</th>\n",
       "      <th>speed</th>\n",
       "      <th>temp_inside</th>\n",
       "      <th>temp_outside</th>\n",
       "      <th>specials</th>\n",
       "      <th>gas_type</th>\n",
       "      <th>AC</th>\n",
       "      <th>rain</th>\n",
       "    </tr>\n",
       "  </thead>\n",
       "  <tbody>\n",
       "    <tr>\n",
       "      <th>0</th>\n",
       "      <td>28.0</td>\n",
       "      <td>5.0</td>\n",
       "      <td>26</td>\n",
       "      <td>21.5</td>\n",
       "      <td>12</td>\n",
       "      <td>NaN</td>\n",
       "      <td>E10</td>\n",
       "      <td>0</td>\n",
       "      <td>0</td>\n",
       "    </tr>\n",
       "    <tr>\n",
       "      <th>1</th>\n",
       "      <td>12.0</td>\n",
       "      <td>4.2</td>\n",
       "      <td>30</td>\n",
       "      <td>21.5</td>\n",
       "      <td>13</td>\n",
       "      <td>NaN</td>\n",
       "      <td>E10</td>\n",
       "      <td>0</td>\n",
       "      <td>0</td>\n",
       "    </tr>\n",
       "    <tr>\n",
       "      <th>2</th>\n",
       "      <td>11.2</td>\n",
       "      <td>5.5</td>\n",
       "      <td>38</td>\n",
       "      <td>21.5</td>\n",
       "      <td>15</td>\n",
       "      <td>NaN</td>\n",
       "      <td>E10</td>\n",
       "      <td>0</td>\n",
       "      <td>0</td>\n",
       "    </tr>\n",
       "    <tr>\n",
       "      <th>3</th>\n",
       "      <td>12.9</td>\n",
       "      <td>3.9</td>\n",
       "      <td>36</td>\n",
       "      <td>21.5</td>\n",
       "      <td>14</td>\n",
       "      <td>NaN</td>\n",
       "      <td>E10</td>\n",
       "      <td>0</td>\n",
       "      <td>0</td>\n",
       "    </tr>\n",
       "    <tr>\n",
       "      <th>4</th>\n",
       "      <td>18.5</td>\n",
       "      <td>4.5</td>\n",
       "      <td>46</td>\n",
       "      <td>21.5</td>\n",
       "      <td>15</td>\n",
       "      <td>NaN</td>\n",
       "      <td>E10</td>\n",
       "      <td>0</td>\n",
       "      <td>0</td>\n",
       "    </tr>\n",
       "  </tbody>\n",
       "</table>\n",
       "</div>"
      ],
      "text/plain": [
       "   distance  consume  speed  temp_inside  temp_outside specials gas_type  AC  \\\n",
       "0      28.0      5.0     26         21.5            12      NaN      E10   0   \n",
       "1      12.0      4.2     30         21.5            13      NaN      E10   0   \n",
       "2      11.2      5.5     38         21.5            15      NaN      E10   0   \n",
       "3      12.9      3.9     36         21.5            14      NaN      E10   0   \n",
       "4      18.5      4.5     46         21.5            15      NaN      E10   0   \n",
       "\n",
       "   rain  \n",
       "0     0  \n",
       "1     0  \n",
       "2     0  \n",
       "3     0  \n",
       "4     0  "
      ]
     },
     "metadata": {},
     "output_type": "display_data"
    }
   ],
   "source": [
    "df = pd.read_excel('measurements2.xlsx')\n",
    "display(df.head(5))"
   ]
  },
  {
   "cell_type": "markdown",
   "metadata": {
    "slideshow": {
     "slide_type": "slide"
    }
   },
   "source": [
    "* distance is the distance in kilometers i was driving\n",
    "* consume is the consumption in liters per 100 kilometers as seen in the display\n",
    "* speed is the average speed. \n",
    "* temp_inside is the setting of the heating or \"NaN\" if it was turned off\n",
    "* temp_outside is the temperature outside, taken at the end of the ride.\n",
    "* specials is a remark if it was raining, snowing or if the climatization was on (\"AC\")\n",
    "* gas type is the gas type used during the last refill\n",
    "* AC is one hot encoded, the special \"AC\". 1 for on, 0 for off.\n",
    "* rain is one-hot-encoded, the special \"rain\" and \"snow\". 1 for it was raining/snowing, 0 for it was good weather.\n",
    "\n",
    "Let's do some graphics."
   ]
  },
  {
   "cell_type": "code",
   "execution_count": 6,
   "metadata": {},
   "outputs": [
    {
     "name": "stdout",
     "output_type": "stream",
     "text": [
      "gas_type\n",
      "E10     5.12\n",
      "SP98    5.25\n",
      "Name: consume, dtype: float64\n"
     ]
    }
   ],
   "source": [
    "# indicator if the heating was not used at all\n",
    "df['heating_off']=df['temp_inside'].isnull()\n",
    "df['heating_off']=df['heating_off'].apply(float)\n",
    "# if the heating was turned completely off, replace the inside temperature by the outside temperature\n",
    "df['temp_inside'].fillna(df['temp_outside'], inplace=True)\n",
    "# get the temperature difference\n",
    "df['temp_diff'] = df['temp_inside'] - df['temp_outside']\n",
    "df['temp_diff_square'] = df['temp_diff']**2\n",
    "# add the square and cube of the speed to the frame\n",
    "df['speedsquare'] = df['speed']**2  # 5% better accuracy\n",
    "df['speedcube'] =  df['speed']**3  # 1% better accuracy\n",
    "\n",
    "# translate the gas type to something machine readable\n",
    "def gastype(in_string):\n",
    "    '''gas type in, integer out'''\n",
    "    if in_string == \"E10\":\n",
    "        return 0\n",
    "    else:\n",
    "        return 1\n",
    "df['gas_type_num']= df['gas_type'].apply(gastype)\n",
    "\n",
    "\n",
    "slope = 34.1 # get down rather fast.\n",
    "delay = 0.07 # after 8% of an hour, equals 5 minutes, cut off.\n",
    "\n",
    "df['startphase'] = 1 / (1 + np.exp( ((df['distance']/df['speed'])-delay)* slope))\n",
    "# heating costs extra in the startphase, later not so much\n",
    "df['start_heating'] = df['startphase'] * df['temp_diff'] \n",
    "E10_df = df[df['gas_type']=='E10']\n",
    "SP98_df = df[df['gas_type']!='E10']\n",
    "\n",
    "print(df.groupby(by='gas_type')['consume'].mean().round(2))"
   ]
  },
  {
   "cell_type": "code",
   "execution_count": 7,
   "metadata": {},
   "outputs": [
    {
     "data": {
      "image/png": "[encoded data removed]",
      "text/plain": [
       "<matplotlib.figure.Figure at 0x20075cab550>"
      ]
     },
     "metadata": {},
     "output_type": "display_data"
    }
   ],
   "source": [
    "fig, axarr = plt.subplots(1,1)\n",
    "fig.set_size_inches(w=16, h=8)\n",
    "red_halo = (1, 0, 0, 0.3)\n",
    "blue_halo = (0, 0, 1, 0.3)\n",
    "\n",
    "cdict = {'red':   ((0.0, 0.0, 0.8), (0.5, 1.0, 1.0), (1.0, 1.0, 1.0),),\n",
    "         'green': ((0.0, 0.5, 0.5), (0.5, 0.0, 0.0), (1.0, 1.0, 1.0),),\n",
    "         'blue':  ((0.0, 0.2, 0.2), (0.5, 0.0, 0.0), (1.0, 1.0, 1.0)),\n",
    "         'alpha': ((0.0, 0.0, 0.1), (0.5, 0.3, 0.3), (0.9, 0.6, 0.6), (1.0, 1.0, 1.0))}\n",
    "red_alph = LinearSegmentedColormap('red_alph', cdict)\n",
    "cdict = {'blue':  ((0.0, 0.0, 0.8), (0.2, 1.0, 1.0), (1.0, 1.0, 1.0),),\n",
    "         'green': ((0.0, 0.0, 0.0), (0.4, 0.5, 0.5), (0.6, 1.0, 1.0), (1.0, 1.0, 1.0),),\n",
    "         'red':   ((0.0, 0.0, 0.0), (0.4, 0.5, 0.5), (0.6, 1.0, 1.0), (1.0, 1.0, 1.0)),\n",
    "         'alpha': ((0.0, 0.0, 0.05), (0.4,0.6, 0.6), (0.8, 0.8, 0.8), (1.0, 1.0, 1.0))}\n",
    "blue_alph = LinearSegmentedColormap('blue_alph', cdict)\n",
    "# plot of speed\n",
    "axarr = sns.kdeplot(E10_df['distance'], E10_df['speed'],\n",
    "                  cmap=red_alph, shade=True, shade_lowest=False, linewidth=0)\n",
    "axarr = sns.kdeplot(SP98_df['distance'], SP98_df['speed'],  \n",
    "                  cmap=blue_alph, shade=True, shade_lowest=False)\n",
    "axarr.scatter(SP98_df.distance.values, SP98_df.speed.values, \n",
    "              color=blue_halo, s=(SP98_df.consume.values-1)**2.5, marker='o', linewidths=0)\n",
    "axarr.scatter(SP98_df.distance.values, SP98_df.speed.values, color='#000000', s=0.5, marker='o', alpha=.9)\n",
    "axarr.scatter(E10_df.distance.values, E10_df.speed.values, \n",
    "              color=red_halo, s=(E10_df.consume.values-1)**2.5, marker='o', linewidths=0)\n",
    "axarr.scatter(E10_df.distance.values, E10_df.speed.values, color='#000000', s=0.5, marker='o', alpha=.9)\n",
    "axarr.grid(color='#000000', linestyle='-', linewidth=1, alpha=0.08)\n",
    "axarr.set_ylabel('Speed in km/h')\n",
    "axarr.set_xlabel('distance in km')\n",
    "\n",
    "axarr.set_xlim(0, 85)\n",
    "axarr.set_ylim(10, 90)\n",
    "text = plt.title('speed on distance density, gas type as color',y=1.05)"
   ]
  },
  {
   "cell_type": "code",
   "execution_count": 8,
   "metadata": {},
   "outputs": [
    {
     "name": "stdout",
     "output_type": "stream",
     "text": [
      "\n",
      "The result after crossfitting two regressions to get the effect of gas sorts:\n",
      "The difference in consumption between E10 and SP98 is 0.39 liter.\n",
      "\n",
      "\n",
      "The importance of the other factors (F-Values)\n",
      "                  F-value of predictor\n",
      "distance                          9.49\n",
      "start_heating                   219.05\n",
      "startphase                      208.88\n",
      "speed                            18.47\n",
      "speedsquare                       9.92\n",
      "speedcube                         5.32\n",
      "temp_diff                         4.89\n",
      "temp_diff_square                  2.74\n",
      "temp_outside                      5.12\n",
      "heating_off                       1.64\n",
      "AC                                7.38\n",
      "rain                              9.42\n",
      "\n",
      "And R² of the model: 0.646\n"
     ]
    }
   ],
   "source": [
    "# make numpy vectors for prediction\n",
    "prediction_values = ['distance','start_heating', 'startphase', \n",
    "                     'speed', 'speedsquare', 'speedcube', \n",
    "                     'temp_diff', 'temp_diff_square', 'temp_outside', \n",
    "                     'heating_off', 'AC', 'rain']\n",
    "\n",
    "##############################################################\n",
    "# in theory, the regression needs scaled data. However, \n",
    "# using scaled data had no effect. So scaling is not used today.\n",
    "# scaler = StandardScaler()\n",
    "# X_scale = scaler.fit_transform(df[prediction_values].values) \n",
    "\n",
    "X = df[prediction_values].values\n",
    "Y = df['consume'].values\n",
    "Y_gas = df['gas_type_num'].values\n",
    "\n",
    "# apply regression\n",
    "rgr = LinearRegression()\n",
    "rgr.fit(X, Y)\n",
    "\n",
    "# apply again, this time trained on gas type\n",
    "rgr_gas = LinearRegression()\n",
    "rgr_gas.fit(X, Y_gas)\n",
    "\n",
    "# get the residuals (the not-yet-explained variance left in the data)\n",
    "Y_residuals = Y - rgr.predict(X)\n",
    "X_gas_residuals = Y - rgr_gas.predict(X)\n",
    "\n",
    "# fit the residuals to get the influence of the gas type\n",
    "# reshape(-1,1) is necessary since scikit 19 if you have a single feature\n",
    "rgr_inference = LinearRegression()\n",
    "rgr_inference.fit(X_gas_residuals.reshape(-1,1), Y_residuals)\n",
    "difference = rgr_inference.coef_[0] # there is only one coef, but given as list of one. :-)\n",
    "\n",
    "print('\\nThe result after crossfitting two regressions to get the effect of gas sorts:')\n",
    "print('The difference in consumption between E10 and SP98 is {:.2f} liter.'.format(difference))\n",
    "\n",
    "\n",
    "# out of interest - what was the influence of the other factors?\n",
    "print('\\n\\nThe importance of the other factors (F-Values)')\n",
    "from sklearn.feature_selection import f_regression\n",
    "F, pval = f_regression(X, Y)\n",
    "predictors_df = pd.DataFrame(columns=prediction_values)\n",
    "predictors_df.loc['F-value of predictor'] = F\n",
    "print(predictors_df.round(2).transpose())\n",
    "print('\\nAnd R² of the model: {:.3f}'.format(rgr.score(X, Y)))"
   ]
  },
  {
   "cell_type": "markdown",
   "metadata": {},
   "source": [
    "Ok, there is the result, and there is also a confirmation that the artificial features have a tremendous impact on the result.\n",
    "\n",
    "So far how it *should* work.\n",
    "\n",
    "The Problem: `sklearn` is tuned to predictions and does not offer confidence intervals - so i don't know how reliable this result really is - or if it is a result at all. So i head over to `statsmodels` now."
   ]
  },
  {
   "cell_type": "code",
   "execution_count": 9,
   "metadata": {},
   "outputs": [
    {
     "name": "stdout",
     "output_type": "stream",
     "text": [
      "The car uses between 0.32 and 0.45 L/100km more gas with E10, with 95% confidence\n",
      "\n",
      "The mid point is 0.39L/100km\n",
      "Here, E10 costs 1.38€ and SP98 costs 1.46€.\n",
      "\n",
      "So, for 100 km:\n",
      "E10  consume: 5.39L and cost 5.461€\n",
      "SP98 consume: 5.00L and cost 4.913€\n"
     ]
    }
   ],
   "source": [
    "# prepare dataframe for statsmodels\n",
    "residuals = pd.DataFrame(Y_residuals, columns=['consume'])\n",
    "residuals['E10']=X_gas_residuals\n",
    "\n",
    "# fit regression in statsmodels format.\n",
    "# it's like sklearn rgr.fit(E10, consume)\n",
    "results = smf.ols('consume ~ E10', data=residuals).fit()\n",
    "\n",
    "# get the result out of the vast array of available values\n",
    "consume = results.conf_int().loc['E10']\n",
    "# results.bse contains the standard error - if you want other confidence intervals...\n",
    "print(\"The car uses between {:.2f} and {:.2f} L/100km more gas with E10, with 95% confidence\".format(\n",
    "            consume[0], consume[1]))\n",
    "\n",
    "# assuming the difference is the beta of E10: attention, this\n",
    "# is true only if the factor E10 is completely independent\n",
    "difference = results.params[1]\n",
    "\n",
    "#output results\n",
    "print(\"\\nThe mid point is {:.2f}L/100km\".format(difference))\n",
    "print('Here, E10 costs {:1.2f}€ and SP98 costs {:1.2f}€.\\n\\nSo, for 100 km:'.format(E10_price, SP98_price))\n",
    "print('E10  consume: {:.2f}L and cost {:.3f}€'.format(df['consume'].mean() + (difference/2), \n",
    "                                                      df['consume'].mean() + (difference/2) * E10_price))\n",
    "print('SP98 consume: {:.2f}L and cost {:.3f}€'.format(df['consume'].mean() - (difference/2), \n",
    "                                                      df['consume'].mean() - (difference/2) * SP98_price))"
   ]
  },
  {
   "cell_type": "markdown",
   "metadata": {},
   "source": [
    "That's a pretty clear result. I display the initial calculation as picture below - in the meanwhile, i have more measurements; so the exact result with the current table differs.\n",
    "\n",
    "Influence factor partialling out is a really cool feature of linear regression! :-)\n",
    "\n",
    "I will continue now and see how E80 gas behaves in my car. The measurement will again take some months, so don't wait in front of your screen for it. :-)"
   ]
  },
  {
   "cell_type": "markdown",
   "metadata": {},
   "source": [
    "<img src=\"gas_station_correct.jpg\">"
   ]
  },
  {
   "cell_type": "code",
   "execution_count": null,
   "metadata": {
    "collapsed": true
   },
   "outputs": [],
   "source": []
  }
 ],
 "metadata": {
  "kernelspec": {
   "display_name": "Python 3",
   "language": "python",
   "name": "python3"
  },
  "language_info": {
   "codemirror_mode": {
    "name": "ipython",
    "version": 3
   },
   "file_extension": ".py",
   "mimetype": "text/x-python",
   "name": "python",
   "nbconvert_exporter": "python",
   "pygments_lexer": "ipython3",
   "version": "3.6.1"
  }
 },
 "nbformat": 4,
 "nbformat_minor": 2
}
